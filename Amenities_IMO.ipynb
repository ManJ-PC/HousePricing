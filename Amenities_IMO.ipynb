{
  "nbformat": 4,
  "nbformat_minor": 0,
  "metadata": {
    "colab": {
      "provenance": [],
      "authorship_tag": "ABX9TyNylOpjHVCbUdlv1V+DlT3l",
      "include_colab_link": true
    },
    "kernelspec": {
      "name": "python3",
      "display_name": "Python 3"
    },
    "language_info": {
      "name": "python"
    },
    "widgets": {
      "application/vnd.jupyter.widget-state+json": {
        "8567184b196a41f692f51c9685c33691": {
          "model_module": "@jupyter-widgets/controls",
          "model_name": "BoxModel",
          "model_module_version": "1.5.0",
          "state": {
            "_dom_classes": [],
            "_model_module": "@jupyter-widgets/controls",
            "_model_module_version": "1.5.0",
            "_model_name": "BoxModel",
            "_view_count": null,
            "_view_module": "@jupyter-widgets/controls",
            "_view_module_version": "1.5.0",
            "_view_name": "BoxView",
            "box_style": "",
            "children": [
              "IPY_MODEL_99b05161fb2c4a668051f2cd6618bd6f"
            ],
            "layout": "IPY_MODEL_d07f6267b5de4a79853d72a1678b9f46"
          }
        },
        "99b05161fb2c4a668051f2cd6618bd6f": {
          "model_module": "@jupyter-widgets/controls",
          "model_name": "HTMLModel",
          "model_module_version": "1.5.0",
          "state": {
            "_dom_classes": [],
            "_model_module": "@jupyter-widgets/controls",
            "_model_module_version": "1.5.0",
            "_model_name": "HTMLModel",
            "_view_count": null,
            "_view_module": "@jupyter-widgets/controls",
            "_view_module_version": "1.5.0",
            "_view_name": "HTMLView",
            "description": "",
            "description_tooltip": null,
            "layout": "IPY_MODEL_30d1185d1a6d49cebe6315b68c283f59",
            "placeholder": "​",
            "style": "IPY_MODEL_dc8fa2ef05fc4b409f692e3bf8357dcf",
            "value": "<div class=\"rendered_html jp-RenderedHTMLCommon\"><table><thead><tr><th>Name</th><th>Type</th><th>Value</th></tr></thead><tr><td>VariableInspectorWindow</td><td>type</td><td><class '__main__.VariableInspectorWindow'></td></tr><tr><td>create_graph_from_point</td><td>function</td><td><function create_graph_from_point at 0x7da672323760></td></tr><tr><td>distance_around_point</td><td>int</td><td>500</td></tr><tr><td>features_from_point</td><td>function</td><td><function features_from_point at 0x7da671096e60></td></tr><tr><td>inspector</td><td>VariableInspectorWindow</td><td><__main__.VariableInspectorWindow object at 0x7da671743820></td></tr><tr><td>latitude</td><td>float</td><td>38.53992115</td></tr><tr><td>longitude</td><td>float</td><td>-28.62408912</td></tr><tr><td>ox</td><td>module</td><td><module 'osmnx' from '/usr/local/lib/python3.10/dist-packages/osmnx/__init__.py'></td></tr><tr><td>result_features</td><td>MultiDiGraph</td><td>MultiDiGraph with 358 nodes and 845 edges</td></tr></table></div>"
          }
        },
        "d07f6267b5de4a79853d72a1678b9f46": {
          "model_module": "@jupyter-widgets/base",
          "model_name": "LayoutModel",
          "model_module_version": "1.2.0",
          "state": {
            "_model_module": "@jupyter-widgets/base",
            "_model_module_version": "1.2.0",
            "_model_name": "LayoutModel",
            "_view_count": null,
            "_view_module": "@jupyter-widgets/base",
            "_view_module_version": "1.2.0",
            "_view_name": "LayoutView",
            "align_content": null,
            "align_items": null,
            "align_self": null,
            "border": null,
            "bottom": null,
            "display": null,
            "flex": null,
            "flex_flow": null,
            "grid_area": null,
            "grid_auto_columns": null,
            "grid_auto_flow": null,
            "grid_auto_rows": null,
            "grid_column": null,
            "grid_gap": null,
            "grid_row": null,
            "grid_template_areas": null,
            "grid_template_columns": null,
            "grid_template_rows": null,
            "height": null,
            "justify_content": null,
            "justify_items": null,
            "left": null,
            "margin": null,
            "max_height": null,
            "max_width": null,
            "min_height": null,
            "min_width": null,
            "object_fit": null,
            "object_position": null,
            "order": null,
            "overflow": null,
            "overflow_x": null,
            "overflow_y": "scroll",
            "padding": null,
            "right": null,
            "top": null,
            "visibility": null,
            "width": null
          }
        },
        "30d1185d1a6d49cebe6315b68c283f59": {
          "model_module": "@jupyter-widgets/base",
          "model_name": "LayoutModel",
          "model_module_version": "1.2.0",
          "state": {
            "_model_module": "@jupyter-widgets/base",
            "_model_module_version": "1.2.0",
            "_model_name": "LayoutModel",
            "_view_count": null,
            "_view_module": "@jupyter-widgets/base",
            "_view_module_version": "1.2.0",
            "_view_name": "LayoutView",
            "align_content": null,
            "align_items": null,
            "align_self": null,
            "border": null,
            "bottom": null,
            "display": null,
            "flex": null,
            "flex_flow": null,
            "grid_area": null,
            "grid_auto_columns": null,
            "grid_auto_flow": null,
            "grid_auto_rows": null,
            "grid_column": null,
            "grid_gap": null,
            "grid_row": null,
            "grid_template_areas": null,
            "grid_template_columns": null,
            "grid_template_rows": null,
            "height": null,
            "justify_content": null,
            "justify_items": null,
            "left": null,
            "margin": null,
            "max_height": null,
            "max_width": null,
            "min_height": null,
            "min_width": null,
            "object_fit": null,
            "object_position": null,
            "order": null,
            "overflow": null,
            "overflow_x": null,
            "overflow_y": null,
            "padding": null,
            "right": null,
            "top": null,
            "visibility": null,
            "width": null
          }
        },
        "dc8fa2ef05fc4b409f692e3bf8357dcf": {
          "model_module": "@jupyter-widgets/controls",
          "model_name": "DescriptionStyleModel",
          "model_module_version": "1.5.0",
          "state": {
            "_model_module": "@jupyter-widgets/controls",
            "_model_module_version": "1.5.0",
            "_model_name": "DescriptionStyleModel",
            "_view_count": null,
            "_view_module": "@jupyter-widgets/base",
            "_view_module_version": "1.2.0",
            "_view_name": "StyleView",
            "description_width": ""
          }
        }
      }
    }
  },
  "cells": [
    {
      "cell_type": "markdown",
      "metadata": {
        "id": "view-in-github",
        "colab_type": "text"
      },
      "source": [
        "<a href=\"https://colab.research.google.com/github/ManJ-PC/HousePricing/blob/main/Amenities_IMO.ipynb\" target=\"_parent\"><img src=\"https://colab.research.google.com/assets/colab-badge.svg\" alt=\"Open In Colab\"/></a>"
      ]
    },
    {
      "cell_type": "code",
      "execution_count": null,
      "metadata": {
        "id": "DW89b_Z02Qvw"
      },
      "outputs": [],
      "source": [
        "%%capture\n",
        "!pip install osmnx\n",
        "import osmnx as ox"
      ]
    },
    {
      "cell_type": "markdown",
      "source": [
        "# Graph function"
      ],
      "metadata": {
        "id": "7d_QQrFD5Y7E"
      }
    },
    {
      "cell_type": "code",
      "source": [
        "def create_graph_from_point(lat, lon, dist=500):\n",
        "    \"\"\"\n",
        "    Create a graph from OpenStreetMap based on a specified latitude and longitude.\n",
        "\n",
        "    Parameters:\n",
        "    - lat (float): Latitude of the point.\n",
        "    - lon (float): Longitude of the point.\n",
        "    - dist (int): Distance (in meters) around the point to fetch features.\n",
        "\n",
        "    Returns:\n",
        "    - G (networkx.MultiDiGraph): Graph representing the street network.\n",
        "    \"\"\"\n",
        "    # Fetch the street network from the specified point\n",
        "    G = ox.graph_from_point((lat, lon), distance=dist, network_type='all', simplify=True)\n",
        "\n",
        "    return G"
      ],
      "metadata": {
        "id": "KIo5P8FO5YNx"
      },
      "execution_count": null,
      "outputs": []
    },
    {
      "cell_type": "code",
      "source": [
        "ef features_from_point(lat, lon, dist=500):\n",
        "    \"\"\"\n",
        "    Fetch features from OpenStreetMap based on a specified latitude and longitude.\n",
        "\n",
        "    Parameters:\n",
        "    - lat (float): Latitude of the point.\n",
        "    - lon (float): Longitude of the point.\n",
        "    - dist (int): Distance (in meters) around the point to fetch features.\n",
        "\n",
        "    Returns:\n",
        "    - features (geopandas.GeoDataFrame): Spatial geometries for various features.\n",
        "    \"\"\"\n",
        "    # Fetch features from the specified point\n",
        "    features = ox.graph_from_point((lat, lon), dist=dist, network_type='all')\n",
        "\n",
        "    return features\n",
        "\n",
        "# Specify the latitude and longitude\n",
        "latitude = 38.53992115\n",
        "longitude = -28.62408912\n",
        "\n",
        "# Set the distance around the point (in meters) to fetch features\n",
        "distance_around_point = 500\n",
        "\n",
        "# Fetch features from the specified point\n",
        "result_features = features_from_point(latitude, longitude, dist=distance_around_point)\n",
        "\n",
        "# Print the result\n",
        "print(result_features)\n",
        "\n",
        "\n",
        "# Create a graph from the specified point\n",
        "street_network = create_graph_from_point(latitude, longitude, dist=distance_around_point)\n",
        "\n",
        "# Plot the graph\n",
        "ox.plot_graph(street_network, node_size=10, node_color='b', edge_color='k', bgcolor='w')\n"
      ],
      "metadata": {
        "colab": {
          "base_uri": "https://localhost:8080/",
          "height": 34
        },
        "id": "jQadwk1-2Tut",
        "outputId": "0526190b-f952-4412-888c-bc7b3c2c454a"
      },
      "execution_count": null,
      "outputs": [
        {
          "output_type": "stream",
          "name": "stdout",
          "text": [
            "MultiDiGraph with 358 nodes and 845 edges\n"
          ]
        }
      ]
    },
    {
      "cell_type": "code",
      "source": [
        "# Create a plot of the street network\n",
        "graph = ox.graph_from_point(city, dist=dist, network_type='all')\n",
        "fig, ax = ox.plot_graph(graph, show=False, close=False)\n",
        "\n",
        "# Overlay hospital locations on the map\n",
        "ox.plot_footprints(hospitals, color='red', alpha=0.7, ax=ax, bbox=None)"
      ],
      "metadata": {
        "id": "q7Nw4M-_49h5"
      },
      "execution_count": null,
      "outputs": []
    },
    {
      "cell_type": "code",
      "source": [
        "\n",
        "def features_from_point(lat, lon, dist=500):\n",
        "    \"\"\"\n",
        "    Fetch features from OpenStreetMap based on a specified latitude and longitude.\n",
        "\n",
        "    Parameters:\n",
        "    - lat (float): Latitude of the point.\n",
        "    - lon (float): Longitude of the point.\n",
        "    - dist (int): Distance (in meters) around the point to fetch features.\n",
        "\n",
        "    Returns:\n",
        "    - features (geopandas.GeoDataFrame): Spatial geometries for various features.\n",
        "    \"\"\"\n",
        "    # Fetch features from the specified point\n",
        "    features = ox.graph_from_point((lat, lon), dist=dist, network_type='all')\n",
        "\n",
        "    return features\n",
        "\n",
        "# Specify the latitude and longitude\n",
        "latitude = 37.7749  # San Francisco, USA\n",
        "longitude = -122.4194\n",
        "\n",
        "# Set the distance around the point (in meters) to fetch features\n",
        "distance_around_point = 500\n",
        "\n",
        "# Fetch features from the specified point\n",
        "result_features = features_from_point(latitude, longitude, dist=distance_around_point)\n",
        "\n",
        "# Print the result\n",
        "print(result_features)\n"
      ],
      "metadata": {
        "colab": {
          "base_uri": "https://localhost:8080/"
        },
        "id": "1v4mQEU03ID5",
        "outputId": "58369648-4f0b-4bb9-eb79-3e3d1fcba060"
      },
      "execution_count": null,
      "outputs": [
        {
          "output_type": "stream",
          "name": "stdout",
          "text": [
            "MultiDiGraph with 871 nodes and 2197 edges\n"
          ]
        }
      ]
    },
    {
      "cell_type": "code",
      "source": [
        "result"
      ],
      "metadata": {
        "id": "dVZTYN5Z_HAg"
      },
      "execution_count": null,
      "outputs": []
    },
    {
      "cell_type": "code",
      "source": [
        "import ipywidgets as widgets # Loads the Widget framework.\n",
        "from IPython.core.magics.namespace import NamespaceMagics # Used to query namespace.\n",
        "\n",
        "# For this example, hide these names, just to avoid polluting the namespace further\n",
        "get_ipython().user_ns_hidden['widgets'] = widgets\n",
        "get_ipython().user_ns_hidden['NamespaceMagics'] = NamespaceMagics"
      ],
      "metadata": {
        "id": "NakPWTe53XXA"
      },
      "execution_count": null,
      "outputs": []
    },
    {
      "cell_type": "code",
      "source": [
        "class VariableInspectorWindow(object):\n",
        "    instance = None\n",
        "\n",
        "    def __init__(self, ipython):\n",
        "        \"\"\"Public constructor.\"\"\"\n",
        "        if VariableInspectorWindow.instance is not None:\n",
        "            raise Exception(\"\"\"Only one instance of the Variable Inspector can exist at a\n",
        "                time.  Call close() on the active instance before creating a new instance.\n",
        "                If you have lost the handle to the active instance, you can re-obtain it\n",
        "                via `VariableInspectorWindow.instance`.\"\"\")\n",
        "\n",
        "        VariableInspectorWindow.instance = self\n",
        "        self.closed = False\n",
        "        self.namespace = NamespaceMagics()\n",
        "        self.namespace.shell = ipython.kernel.shell\n",
        "\n",
        "        self._box = widgets.Box()\n",
        "        self._box.layout.overflow_y = 'scroll'\n",
        "        self._table = widgets.HTML(value = 'Not hooked')\n",
        "        self._box.children = [self._table]\n",
        "\n",
        "        self._ipython = ipython\n",
        "        self._ipython.events.register('post_run_cell', self._fill)\n",
        "\n",
        "    def close(self):\n",
        "        \"\"\"Close and remove hooks.\"\"\"\n",
        "        if not self.closed:\n",
        "            self._ipython.events.unregister('post_run_cell', self._fill)\n",
        "            self._box.close()\n",
        "            self.closed = True\n",
        "            VariableInspectorWindow.instance = None\n",
        "\n",
        "    def _fill(self, _result):\n",
        "        \"\"\"Fill self with variable information.\"\"\"\n",
        "        values = self.namespace.who_ls()\n",
        "        self._table.value = '<div class=\"rendered_html jp-RenderedHTMLCommon\"><table><thead><tr><th>Name</th><th>Type</th><th>Value</th></tr></thead><tr><td>' + \\\n",
        "            '</td></tr><tr><td>'.join(['{0}</td><td>{1}</td><td>{2}'.format(v, type(eval(v)).__name__, str(eval(v))) for v in values]) + \\\n",
        "            '</td></tr></table></div>'\n",
        "\n",
        "    def _ipython_display_(self):\n",
        "        \"\"\"Called when display() or pyout is used to display the Variable\n",
        "        Inspector.\"\"\"\n",
        "        self._box._ipython_display_()"
      ],
      "metadata": {
        "id": "yTzRUMTr3WDC"
      },
      "execution_count": null,
      "outputs": []
    },
    {
      "cell_type": "code",
      "source": [
        "inspector = VariableInspectorWindow(get_ipython())\n",
        "inspector"
      ],
      "metadata": {
        "colab": {
          "base_uri": "https://localhost:8080/",
          "height": 333,
          "referenced_widgets": [
            "8567184b196a41f692f51c9685c33691",
            "99b05161fb2c4a668051f2cd6618bd6f",
            "d07f6267b5de4a79853d72a1678b9f46",
            "30d1185d1a6d49cebe6315b68c283f59",
            "dc8fa2ef05fc4b409f692e3bf8357dcf"
          ]
        },
        "id": "8FaZF73M3Qb4",
        "outputId": "3e88a84a-3b29-4a72-e5fd-5ed65923bf2b"
      },
      "execution_count": null,
      "outputs": [
        {
          "output_type": "display_data",
          "data": {
            "text/plain": [
              "Box(children=(HTML(value='Not hooked'),), layout=Layout(overflow_y='scroll'))"
            ],
            "application/vnd.jupyter.widget-view+json": {
              "version_major": 2,
              "version_minor": 0,
              "model_id": "8567184b196a41f692f51c9685c33691"
            }
          },
          "metadata": {}
        }
      ]
    },
    {
      "cell_type": "code",
      "source": [
        "https://networkx.org/documentation/stable/reference/classes/multidigraph.html"
      ],
      "metadata": {
        "id": "2PuhESMO7RmD"
      },
      "execution_count": null,
      "outputs": []
    },
    {
      "cell_type": "code",
      "source": [
        "from random import randint\n",
        "\n",
        "def roll(*dice):\n",
        "    return sum(randint(1, die) for die in dice)"
      ],
      "metadata": {
        "id": "CZ2aJ3qH6nMf"
      },
      "execution_count": 2,
      "outputs": []
    },
    {
      "cell_type": "code",
      "source": [
        "roll(20) # 1 dado [1,20]"
      ],
      "metadata": {
        "colab": {
          "base_uri": "https://localhost:8080/"
        },
        "id": "TCuMzwyv680A",
        "outputId": "c9466063-2636-4432-8ade-9f8313cf1275"
      },
      "execution_count": 23,
      "outputs": [
        {
          "output_type": "execute_result",
          "data": {
            "text/plain": [
              "2"
            ]
          },
          "metadata": {},
          "execution_count": 23
        }
      ]
    },
    {
      "cell_type": "code",
      "source": [
        "roll(6,6) # 2 dados normais"
      ],
      "metadata": {
        "colab": {
          "base_uri": "https://localhost:8080/"
        },
        "id": "ZdcyfUH066TB",
        "outputId": "a97b8ddc-727b-4787-86c9-f37c56d8721a"
      },
      "execution_count": 24,
      "outputs": [
        {
          "output_type": "execute_result",
          "data": {
            "text/plain": [
              "6"
            ]
          },
          "metadata": {},
          "execution_count": 24
        }
      ]
    },
    {
      "cell_type": "code",
      "source": [
        "roll(6,6,6) # 3 dados"
      ],
      "metadata": {
        "colab": {
          "base_uri": "https://localhost:8080/"
        },
        "id": "6FX--yNl6r4H",
        "outputId": "a39f4178-ab78-4c4c-e9ef-394d8eb2cd4f"
      },
      "execution_count": 16,
      "outputs": [
        {
          "output_type": "execute_result",
          "data": {
            "text/plain": [
              "13"
            ]
          },
          "metadata": {},
          "execution_count": 16
        }
      ]
    }
  ]
}